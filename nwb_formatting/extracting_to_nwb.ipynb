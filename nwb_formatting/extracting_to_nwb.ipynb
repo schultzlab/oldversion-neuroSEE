{
 "cells": [
  {
   "cell_type": "code",
   "execution_count": 1,
   "metadata": {
    "scrolled": true
   },
   "outputs": [
    {
     "name": "stderr",
     "output_type": "stream",
     "text": [
      "/Users/solomia/anaconda3/lib/python3.6/site-packages/h5py/__init__.py:36: FutureWarning: Conversion of the second argument of issubdtype from `float` to `np.floating` is deprecated. In future, it will be treated as `np.float64 == np.dtype(float).type`.\n",
      "  from ._conv import register_converters as _register_converters\n"
     ]
    },
    {
     "data": {
      "text/plain": [
       "'\\nthis will identify an error but give it an exception, may need it later\\n\\ntry:\\n    sbj = pd.read_excel(data_sheet, sheet_name= i , index_col=0)\\nexcept ValueError:\\n    continue\\n'"
      ]
     },
     "execution_count": 1,
     "metadata": {},
     "output_type": "execute_result"
    }
   ],
   "source": [
    "#!/usr/bin/env python3\n",
    "# -*- coding: utf-8 -*-\n",
    "# =============================================================================\n",
    "# ** == STILL TO DO\n",
    "# =============================================================================\n",
    "\n",
    "# Python Imports\n",
    "from datetime import datetime\n",
    "import h5py\n",
    "import numpy as np\n",
    "import glob\n",
    "import os\n",
    "import pandas as pd\n",
    "\n",
    "# matlab Imports\n",
    "import matlab.engine\n",
    "eng = matlab.engine.start_matlab()\n",
    "\n",
    "# Reading the Experiment Data sheet\n",
    "from docx import Document\n",
    "\n",
    "# NWB imports\n",
    "from pynwb import NWBFile, get_manager\n",
    "from pynwb import TimeSeries\n",
    "from pynwb import NWBHDF5IO\n",
    "\n",
    "# my scripts\n",
    "#import from_ini # this has crashed for some reason?????\n",
    "#print(os.listdir(session_date_folder)) gets list of files in directory\n",
    "'''\n",
    "this will identify an error but give it an exception, may need it later\n",
    "\n",
    "try:\n",
    "    sbj = pd.read_excel(data_sheet, sheet_name= i , index_col=0)\n",
    "except ValueError:\n",
    "    continue\n",
    "'''"
   ]
  },
  {
   "cell_type": "code",
   "execution_count": 9,
   "metadata": {},
   "outputs": [
    {
     "ename": "TypeError",
     "evalue": "'NoneType' object is not iterable",
     "output_type": "error",
     "traceback": [
      "\u001b[0;31m---------------------------------------------------------------------------\u001b[0m",
      "\u001b[0;31mTypeError\u001b[0m                                 Traceback (most recent call last)",
      "\u001b[0;32m<ipython-input-9-36176039beb9>\u001b[0m in \u001b[0;36m<module>\u001b[0;34m()\u001b[0m\n\u001b[0;32m----> 1\u001b[0;31m \u001b[0ma\u001b[0m\u001b[0;34m,\u001b[0m \u001b[0mb\u001b[0m \u001b[0;34m=\u001b[0m \u001b[0meng\u001b[0m\u001b[0;34m.\u001b[0m\u001b[0mpipeline_neuroSEE_batch\u001b[0m\u001b[0;34m(\u001b[0m\u001b[0;34m'/Volumes/Schultz_group_data/Crazy Eights/Ann/GCaMP6 imaging/2018.03.06/2P/20180306_16_57_28_2P/20180306_16_57_28_2P_XYT.tif'\u001b[0m\u001b[0;34m,\u001b[0m\u001b[0;34m'/Volumes/Schultz_group_data/Crazy Eights/Ann/GCaMP6 imaging/2018.03.06/2P/20180306_16_57_28_2P/Composite2nd.jpg'\u001b[0m\u001b[0;34m,\u001b[0m \u001b[0mnargout\u001b[0m\u001b[0;34m=\u001b[0m\u001b[0;36m2\u001b[0m\u001b[0;34m)\u001b[0m\u001b[0;34m\u001b[0m\u001b[0m\n\u001b[0m\u001b[1;32m      2\u001b[0m \u001b[0mprint\u001b[0m\u001b[0;34m(\u001b[0m\u001b[0ma\u001b[0m\u001b[0;34m,\u001b[0m \u001b[0mb\u001b[0m\u001b[0;34m)\u001b[0m\u001b[0;34m\u001b[0m\u001b[0m\n",
      "\u001b[0;31mTypeError\u001b[0m: 'NoneType' object is not iterable"
     ]
    }
   ],
   "source": []
  },
  {
   "cell_type": "code",
   "execution_count": 205,
   "metadata": {},
   "outputs": [],
   "source": [
    "def sbj_sheet_list(datas_dir):\n",
    "    data_sheet = pd.ExcelFile(datas_dir)\n",
    "    sheets = data_sheet.sheet_names\n",
    "    return(sheets)\n",
    "\n",
    "def get_exp_data(data_sheet):\n",
    "#    sheets = open_excel_sheet(datas_dir)\n",
    "    exp_details = pd.read_excel(data_sheet, sheet_name= 'Experiment Details', index_col=0)\n",
    "    return(exp_details)\n",
    "\n",
    "def create_mouse_id_folder(mouse_id):\n",
    "    \"\"\" creates folder with mouse ID \"\"\"\n",
    "#    this is a clean way to join a path name (do this everywhere)\n",
    "    target_dir = os.path.join('/Users/solomia/Dropbox/2p_da/data_files/nwb_folder/', mouse_id)\n",
    "    if not os.path.exists(target_dir):\n",
    "        os.makedirs(target_dir)\n",
    "    return target_dir\n",
    "\n",
    "def create_mouse_date_folder(mouse_id, exp_date):\n",
    "    mouse_target_dir = create_mouse_id_folder(mouse_id)\n",
    "    target_dir = os.path.join(mouse_target_dir, exp_date)\n",
    "    if not os.path.exists(target_dir):\n",
    "        os.makedirs(target_dir)\n",
    "    return target_dir\n",
    "\n",
    "def is_sbj_sheet(sheet):\n",
    "    if 'template' in sheet.lower():\n",
    "        return False\n",
    "    if sheet.lower().startswith('subject details'):\n",
    "        return True\n",
    "    return False\n",
    "\n",
    "# returns the first folder of the 2p data for analysis\n",
    "# what if this ran the ROI and timeseries extraction together??\n",
    "# need to iterate through starting as index first folder\n",
    "def corresponding_2P(imaging_folder, exp_date, imaging_times):\n",
    "    twop_folders = sorted(os.listdir(imaging_folder))\n",
    "    first_folder = exp_date + '_' + imaging_times.index[0].strftime('%H_%M_%S') + '_2P'\n",
    "    if first_folder in twop_folders:\n",
    "        twop_raw = os.path.join(first_folder, first_folder + '_XYT.raw')\n",
    "        print(twop_raw)\n",
    "        for i in twop_folders:\n",
    "            print()"
   ]
  },
  {
   "cell_type": "code",
   "execution_count": 206,
   "metadata": {},
   "outputs": [],
   "source": [
    "def get_data(data_sheet, imaging_folder, behav_folder):\n",
    "    sheets = sbj_sheet_list(data_sheet)\n",
    "    # using the square brackets you can construct paths easier (look into this)\n",
    "    sbj_details = [x for x in sheets if is_sbj_sheet(x)]\n",
    "    for i in sbj_details:\n",
    "        sbj = pd.read_excel(data_sheet, sheet_name= i , index_col=0)\n",
    "        times = sbj.loc['Time':].copy()\n",
    "        times.columns = times.iloc[0]\n",
    "        times.drop(['Time'],inplace=True)\n",
    "        \n",
    "#        This returns a check on whether there is a TRUE inside the column\n",
    "        imaging_times = times[times['2P (X)'].notnull()]\n",
    "        \n",
    "        if len(imaging_times) > 0:\n",
    "            mouse_id = sbj.loc['Number','Unnamed: 1']\n",
    "            exp_data = get_exp_data(data_sheet)\n",
    "            exp_date = exp_data.at['Date','Unnamed: 1'].replace('.', '')\n",
    "            mouse_date_folder = create_mouse_date_folder(mouse_id, exp_date)\n",
    "           \n",
    "# looking for nwb files\n",
    "            session_start = str(imaging_times.index[0])[0:5]\n",
    "            output_file_name = mouse_id + '_' + exp_date + \\\n",
    "            '_' +  session_start.replace(':','_') + '.nwb'\n",
    "            output_filepath = os.path.join(mouse_date_folder, output_file_name)\n",
    "            if not os.path.exists(output_filepath):\n",
    "                nwb_file = NWBFile(\n",
    "                            source = '',\n",
    "                            session_description = mouse_id + ' ' + exp_date + ' ' + session_start,\n",
    "                            identifier = mouse_id + ' ' + exp_date + ' ' + session_start, \n",
    "                            session_start_time = session_start,\n",
    "                #            file_create_date = datetime.now(tz=None),\n",
    "                #            experimenter='Dr Ann Go',\n",
    "                            lab = 'Neural Coding',\n",
    "                            institution = 'Imperial College London',\n",
    "                            experiment_description = 'GCamp Imaging',\n",
    "                            virus = sbj.index[6]+':'+sbj.loc['GCaMP Inj','Unnamed: 1']+', '\\\n",
    "                            +sbj.index[7]+':'+sbj.loc['Methoxy Inj','Unnamed: 1']\n",
    "                #            session_id='test_001',\n",
    "                            )  \n",
    "                \n",
    "                #find folder coressponding to 2P data\n",
    "                #so session start should match\n",
    "                first_2P_path = corresponding_2P(imaging_folder,exp_date,imaging_times)\n",
    "                \n",
    "                # # Matlab script loading and running working\n",
    "                # g_ts, r_ts = eng.pipeline_neuroSEE_batch('/Volumes/Schultz_group_data/Crazy Eights/Ann/GCaMP6 imaging/2018.03.06/2P/20180306_16_57_28_2P/20180306_16_57_28_2P_XYT.tif','/Volumes/Schultz_group_data/Crazy Eights/Ann/GCaMP6 imaging/2018.03.06/2P/20180306_16_57_28_2P/Composite2nd.jpg', nargout=2)\n",
    "                data = list(range(100, 200, 10))\n",
    "                timestamps = list(range(10))\n",
    "                # currently set to test data, need to change\n",
    "                red_ts = TimeSeries('red_timeseries', #this names the TS in the epoch \n",
    "                                     'PyNWB tutorial', \n",
    "                                     data, \n",
    "                                     'SIunit', \n",
    "                                     starting_time=0.0, \n",
    "                                     rate=1.0)\n",
    "                green_ts = TimeSeries('green_timeseries', #this names the TS in the epoch \n",
    "                                     'PyNWB tutorial', \n",
    "                                     data, \n",
    "                                     'SIunit', \n",
    "                                     starting_time=0.0, \n",
    "                                     rate=1.0)\n",
    "                #nwb_file.add_acquisition(test_ts)\n",
    "                # test data\n",
    "                data = list(range(0, 100, 10))\n",
    "                timestamps = list(range(10))\n",
    "                \n",
    "                nwb_file.create_epoch('the first epoch',' ', 2.0, 4.0, [red_ts, green_ts],'description')\n",
    "                nwb_file.set_epoch_timeseries('the first epoch',red_ts)\n",
    "                nwb_file.set_epoch_timeseries('the first epoch',green_ts)\n",
    "        \n",
    "                file = NWBHDF5IO(output_filepath, manager=get_manager(), mode='w')\n",
    "                file.write(nwb_file)\n",
    "                file.close()\n",
    "            else:\n",
    "                io = NWBHDF5IO(output_filepath)\n",
    "                nwbfile = io.read()\n",
    "                find_epoch = nwbfile.get_epochs()\n",
    "                print(find_epoch)"
   ]
  },
  {
   "cell_type": "code",
   "execution_count": 207,
   "metadata": {},
   "outputs": [
    {
     "name": "stdout",
     "output_type": "stream",
     "text": [
      "20180307_15_55_00_2P/20180307_15_55_00_2P_XYT.raw\n"
     ]
    }
   ],
   "source": [
    "get_data('/Users/solomia/Dropbox/2p_da/data_files/2018.03.02/Experiment Data Sheet - 2018.03.02.xlsm','/Users/solomia/Dropbox/2p_da/data_files/2018.03.07/2P',' ')"
   ]
  },
  {
   "cell_type": "code",
   "execution_count": null,
   "metadata": {},
   "outputs": [],
   "source": []
  },
  {
   "cell_type": "code",
   "execution_count": null,
   "metadata": {},
   "outputs": [],
   "source": []
  }
 ],
 "metadata": {
  "kernelspec": {
   "display_name": "Python 3",
   "language": "python",
   "name": "python3"
  },
  "language_info": {
   "codemirror_mode": {
    "name": "ipython",
    "version": 3
   },
   "file_extension": ".py",
   "mimetype": "text/x-python",
   "name": "python",
   "nbconvert_exporter": "python",
   "pygments_lexer": "ipython3",
   "version": "3.6.4"
  }
 },
 "nbformat": 4,
 "nbformat_minor": 2
}
